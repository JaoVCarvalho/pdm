{
 "cells": [
  {
   "cell_type": "markdown",
   "id": "2665f558-53d8-4586-bfa4-43830aa5384f",
   "metadata": {},
   "source": [
    "# EX6-STRUCT: SparkSQL basics\n",
    "\n",
    "Your assignment: complete the `TODO`'s and include also the **output of each cell**."
   ]
  },
  {
   "cell_type": "markdown",
   "id": "7db17110-5cf4-44f8-b34d-64d7b91cd768",
   "metadata": {},
   "source": [
    "### Download Bike Trip Data (GDrive)"
   ]
  },
  {
   "cell_type": "code",
   "execution_count": 2,
   "id": "ede39833-c55e-448d-8c3e-8d0fc1b5e8cc",
   "metadata": {},
   "outputs": [
    {
     "name": "stderr",
     "output_type": "stream",
     "text": [
      "Retrieving folder contents\n"
     ]
    },
    {
     "name": "stdout",
     "output_type": "stream",
     "text": [
      "Processing file 1PzE-6woMPgpYMrs2rJ-9ZVY6LbUe0yhX exemplo-menor-shuf.log\n",
      "Processing file 1G6H4HNgatoTt8ORw0h5V50qEayV_EV2H flight-data.json\n",
      "Processing file 1Bp-SCjGSYI-__Up_70LwUhdDti1GrDRl pagerank-neural.txt\n",
      "Processing file 1HDkDFkKA63sgAHen-FXnD6tUc-PGvKsv pagerank-slides.txt\n",
      "Processing file 1zKmw-gvC2hqoGdWbFwP_cmqsHFuiGUos pessoas.csv\n",
      "Processing file 1qAS4vLYloKhniOycsEIWk1adRZU-gozm station-data.csv\n",
      "Processing file 134kLURYaTZuj6SWrg1XvkQKQ30bf1X7I station-data.json\n",
      "Processing file 10sGvzCpwPNgkPaCrtCPDr8YFNef12WDS trip-data.csv\n",
      "Processing file 1pX3WHi3R2n52zyo6swXxlOtVTgt_hOQG trip-data.json\n",
      "Processing file 1BHLTv_s6Y-hbl7A_J1vKyPRaJcD9jI5a twitch-edges.txt\n",
      "Processing file 1ndGUauXnpz02DtPVOQnjBp5S1GhtuzsL zipcodes.json\n"
     ]
    },
    {
     "name": "stderr",
     "output_type": "stream",
     "text": [
      "Retrieving folder contents completed\n",
      "Building directory structure\n",
      "Building directory structure completed\n",
      "Downloading...\n",
      "From: https://drive.google.com/uc?id=1PzE-6woMPgpYMrs2rJ-9ZVY6LbUe0yhX\n",
      "To: /app/hostdir/data/exemplo-menor-shuf.log\n",
      "100%|██████████| 41.6M/41.6M [00:04<00:00, 9.59MB/s]\n",
      "Downloading...\n",
      "From: https://drive.google.com/uc?id=1G6H4HNgatoTt8ORw0h5V50qEayV_EV2H\n",
      "To: /app/hostdir/data/flight-data.json\n",
      "100%|██████████| 126k/126k [00:00<00:00, 1.31MB/s]\n",
      "Downloading...\n",
      "From: https://drive.google.com/uc?id=1Bp-SCjGSYI-__Up_70LwUhdDti1GrDRl\n",
      "To: /app/hostdir/data/pagerank-neural.txt\n",
      "100%|██████████| 16.5k/16.5k [00:00<00:00, 617kB/s]\n",
      "Downloading...\n",
      "From: https://drive.google.com/uc?id=1HDkDFkKA63sgAHen-FXnD6tUc-PGvKsv\n",
      "To: /app/hostdir/data/pagerank-slides.txt\n",
      "100%|██████████| 28.0/28.0 [00:00<00:00, 127kB/s]\n",
      "Downloading...\n",
      "From: https://drive.google.com/uc?id=1zKmw-gvC2hqoGdWbFwP_cmqsHFuiGUos\n",
      "To: /app/hostdir/data/pessoas.csv\n",
      "100%|██████████| 181/181 [00:00<00:00, 312kB/s]\n",
      "Downloading...\n",
      "From: https://drive.google.com/uc?id=1qAS4vLYloKhniOycsEIWk1adRZU-gozm\n",
      "To: /app/hostdir/data/station-data.csv\n",
      "100%|██████████| 5.14k/5.14k [00:00<00:00, 1.41MB/s]\n",
      "Downloading...\n",
      "From: https://drive.google.com/uc?id=134kLURYaTZuj6SWrg1XvkQKQ30bf1X7I\n",
      "To: /app/hostdir/data/station-data.json\n",
      "100%|██████████| 10.8k/10.8k [00:00<00:00, 6.68MB/s]\n",
      "Downloading...\n",
      "From: https://drive.google.com/uc?id=10sGvzCpwPNgkPaCrtCPDr8YFNef12WDS\n",
      "To: /app/hostdir/data/trip-data.csv\n",
      "100%|██████████| 42.7M/42.7M [00:04<00:00, 8.68MB/s]\n",
      "Downloading...\n",
      "From (original): https://drive.google.com/uc?id=1pX3WHi3R2n52zyo6swXxlOtVTgt_hOQG\n",
      "From (redirected): https://drive.google.com/uc?id=1pX3WHi3R2n52zyo6swXxlOtVTgt_hOQG&confirm=t&uuid=f0d30ba2-8b8f-46ec-a44e-21cf4c21455f\n",
      "To: /app/hostdir/data/trip-data.json\n",
      "100%|██████████| 109M/109M [00:12<00:00, 8.77MB/s] \n",
      "Downloading...\n",
      "From: https://drive.google.com/uc?id=1BHLTv_s6Y-hbl7A_J1vKyPRaJcD9jI5a\n",
      "To: /app/hostdir/data/twitch-edges.txt\n",
      "100%|██████████| 86.2M/86.2M [00:09<00:00, 9.10MB/s]\n",
      "Downloading...\n",
      "From: https://drive.google.com/uc?id=1ndGUauXnpz02DtPVOQnjBp5S1GhtuzsL\n",
      "To: /app/hostdir/data/zipcodes.json\n",
      "100%|██████████| 7.33k/7.33k [00:00<00:00, 3.10MB/s]\n",
      "Download completed\n"
     ]
    },
    {
     "data": {
      "text/plain": [
       "['/app/hostdir/data/exemplo-menor-shuf.log',\n",
       " '/app/hostdir/data/flight-data.json',\n",
       " '/app/hostdir/data/pagerank-neural.txt',\n",
       " '/app/hostdir/data/pagerank-slides.txt',\n",
       " '/app/hostdir/data/pessoas.csv',\n",
       " '/app/hostdir/data/station-data.csv',\n",
       " '/app/hostdir/data/station-data.json',\n",
       " '/app/hostdir/data/trip-data.csv',\n",
       " '/app/hostdir/data/trip-data.json',\n",
       " '/app/hostdir/data/twitch-edges.txt',\n",
       " '/app/hostdir/data/zipcodes.json']"
      ]
     },
     "execution_count": 2,
     "metadata": {},
     "output_type": "execute_result"
    }
   ],
   "source": [
    "import gdown\n",
    "\n",
    "url = 'https://drive.google.com/drive/folders/1WOkGqsJItunujM3dtMa3NCEj8T3fUHhv'\n",
    "gdown.download_folder(url)"
   ]
  }
 ],
 "metadata": {
  "kernelspec": {
   "display_name": "Python 3 (ipykernel)",
   "language": "python",
   "name": "python3"
  },
  "language_info": {
   "codemirror_mode": {
    "name": "ipython",
    "version": 3
   },
   "file_extension": ".py",
   "mimetype": "text/x-python",
   "name": "python",
   "nbconvert_exporter": "python",
   "pygments_lexer": "ipython3",
   "version": "3.12.9"
  }
 },
 "nbformat": 4,
 "nbformat_minor": 5
}
