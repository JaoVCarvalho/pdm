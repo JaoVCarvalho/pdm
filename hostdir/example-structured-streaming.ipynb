{
 "cells": [
  {
   "cell_type": "markdown",
   "id": "d78793a7-6d38-4794-a7d1-6b2c0e57ca8f",
   "metadata": {},
   "source": [
    "### Start Spark Session"
   ]
  },
  {
   "cell_type": "code",
   "execution_count": null,
   "id": "6991433e-339e-4dde-a08d-d31ce0c45a54",
   "metadata": {},
   "outputs": [],
   "source": [
    "from pyspark.sql import SparkSession\n",
    "\n",
    "try:\n",
    "    spark.stop()\n",
    "except NameError:\n",
    "    print(\"SparkContext not defined\")\n",
    "\n",
    "# local mode\n",
    "#spark = SparkSession.builder \\\n",
    "#            .appName(\"Spark SQL basic example\") \\\n",
    "#            .master(\"local[*]\") \\\n",
    "#\t    \t.config(\"spark.some.config.option\", \"some-value\") \\\n",
    "#\t    \t.getOrCreate()\n",
    "\n",
    "# cluster mode\n",
    "spark = SparkSession.builder \\\n",
    "            .appName(\"Spark SQL basic example\") \\\n",
    "            .master(\"spark://spark:7077\") \\\n",
    "\t    \t.config(\"spark.some.config.option\", \"some-value\") \\\n",
    "\t    \t.getOrCreate()"
   ]
  },
  {
   "cell_type": "markdown",
   "id": "5a3054dc-c088-49d9-bee9-2d5a3976ba6f",
   "metadata": {},
   "source": [
    "### Stream from socket (must be running on other host)"
   ]
  },
  {
   "cell_type": "code",
   "execution_count": null,
   "id": "805b2706-6fd2-4bb3-bef1-059c94a66a80",
   "metadata": {},
   "outputs": [],
   "source": [
    "from pyspark.sql.functions import *\n",
    "lines = (spark\n",
    ".readStream.format(\"socket\")\n",
    ".option(\"host\", \"socketstreamserver\")\n",
    ".option(\"port\", 12345)\n",
    ".load())\n",
    "\n",
    "# add current timestamp for each event\n",
    "lines = lines.withColumn(\"timestamp\", current_timestamp())\n",
    "lines"
   ]
  },
  {
   "cell_type": "markdown",
   "id": "60da0647-bd17-4ae6-a51d-c06ea6cf35d8",
   "metadata": {},
   "source": [
    "### Transform data stream (use window if necessary)"
   ]
  },
  {
   "cell_type": "code",
   "execution_count": null,
   "id": "44b2f66c-8e0c-4ece-9640-1688d4f2982a",
   "metadata": {},
   "outputs": [],
   "source": [
    "from pyspark.sql.functions import *\n",
    "# line to words\n",
    "words = lines.select(lines.timestamp, explode(split(lines.value, \"\\\\s\")).alias(\"word\"))\n",
    "print(words)\n",
    "# trim words\n",
    "words = words.select(words.timestamp, trim(words.word).alias(\"word\"))\n",
    "print(words)\n",
    "# filter out empty words\n",
    "words = words.filter(words.word != \"\")\n",
    "print(words)\n",
    "# group words by window (10 sec.) with sliding of 5 seconds, count words within group\n",
    "counts = words.groupBy(window(words.timestamp, \"10 seconds\", \"5 seconds\"), words.word).count()\n",
    "counts"
   ]
  },
  {
   "cell_type": "markdown",
   "id": "be61abdf-cb14-4de4-a041-b485e4db447e",
   "metadata": {},
   "source": [
    "### More transformation on the data"
   ]
  },
  {
   "cell_type": "code",
   "execution_count": null,
   "id": "43c76341-21ae-4824-bbb8-d4a3f33b46bb",
   "metadata": {
    "scrolled": true
   },
   "outputs": [],
   "source": [
    "top_counts = counts.orderBy(col(\"count\").desc())\n",
    "top_counts"
   ]
  },
  {
   "cell_type": "markdown",
   "id": "c81e398f-abc8-4b6b-846c-10f97e8c8727",
   "metadata": {},
   "source": [
    "### Setup output sink"
   ]
  },
  {
   "cell_type": "code",
   "execution_count": null,
   "id": "dac43346-7f95-4681-aea6-f1b929bc424e",
   "metadata": {},
   "outputs": [],
   "source": [
    "writer = top_counts.writeStream.format(\"console\").option(\"truncate\", False).outputMode(\"complete\")\n",
    "writer"
   ]
  },
  {
   "cell_type": "markdown",
   "id": "18593369-6c3c-46c4-9b51-32ad9ece54dc",
   "metadata": {},
   "source": [
    "### Trigger option defines the duration of mini-batches"
   ]
  },
  {
   "cell_type": "code",
   "execution_count": null,
   "id": "7aaf7ad4-75ec-4a9a-b77a-e0b303508f89",
   "metadata": {},
   "outputs": [],
   "source": [
    "writer2 = writer.trigger(processingTime=\"5 second\")\n",
    "writer2"
   ]
  },
  {
   "cell_type": "markdown",
   "id": "f9300088-e90a-4709-9c86-fcd05d8db64e",
   "metadata": {},
   "source": [
    "### Start query with a timeout of 60 seconds"
   ]
  },
  {
   "cell_type": "code",
   "execution_count": null,
   "id": "85d6b865-d688-4877-91c0-315f57107fe2",
   "metadata": {
    "scrolled": true
   },
   "outputs": [],
   "source": [
    "streamingQuery = writer2.start()\n",
    "streamingQuery.awaitTermination(60)"
   ]
  },
  {
   "cell_type": "code",
   "execution_count": null,
   "id": "86e9efc8-b1f6-4ca5-b524-98c1bfc3a111",
   "metadata": {},
   "outputs": [],
   "source": [
    "streamingQuery.stop()"
   ]
  }
 ],
 "metadata": {
  "kernelspec": {
   "display_name": "Python 3 (ipykernel)",
   "language": "python",
   "name": "python3"
  },
  "language_info": {
   "codemirror_mode": {
    "name": "ipython",
    "version": 3
   },
   "file_extension": ".py",
   "mimetype": "text/x-python",
   "name": "python",
   "nbconvert_exporter": "python",
   "pygments_lexer": "ipython3",
   "version": "3.12.9"
  }
 },
 "nbformat": 4,
 "nbformat_minor": 5
}
