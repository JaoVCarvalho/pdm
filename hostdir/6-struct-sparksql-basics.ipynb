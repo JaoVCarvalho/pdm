{
 "cells": [
  {
   "cell_type": "markdown",
   "id": "2665f558-53d8-4586-bfa4-43830aa5384f",
   "metadata": {},
   "source": [
    "# EX6-STRUCT: SparkSQL basics\n",
    "\n",
    "Your assignment: complete the `TODO`'s and include also the **output of each cell**.\n",
    "\n",
    "#### You may need to read the [Dataframe API Documentation](https://spark.apache.org/docs/latest/api/python/reference/pyspark.sql/dataframe.html) to complete this lab."
   ]
  },
  {
   "cell_type": "markdown",
   "id": "7db17110-5cf4-44f8-b34d-64d7b91cd768",
   "metadata": {},
   "source": [
    "### Step 1: Download Bike Trip Data (GDrive)"
   ]
  },
  {
   "cell_type": "code",
   "execution_count": null,
   "id": "ede39833-c55e-448d-8c3e-8d0fc1b5e8cc",
   "metadata": {},
   "outputs": [],
   "source": [
    "import os\n",
    "import gdown\n",
    "\n",
    "# stations data\n",
    "if not os.path.isfile('data/station-data.json'):\n",
    "    id = \"134kLURYaTZuj6SWrg1XvkQKQ30bf1X7I\"\n",
    "    gdown.download(id=id, output=\"data/\")\n",
    "    print(\"Stations data downloaded\")\n",
    "else:\n",
    "    print(\"Stations data already downloaded\")\n",
    "\n",
    "# trips data\n",
    "if not os.path.isfile('data/trip-data.json'):\n",
    "    id = \"1pX3WHi3R2n52zyo6swXxlOtVTgt_hOQG\"\n",
    "    gdown.download(id=id, output=\"data/\")\n",
    "    print(\"Trips data downloaded\")\n",
    "else:\n",
    "    print(\"Trips data already downloaded\")"
   ]
  },
  {
   "cell_type": "markdown",
   "id": "d78793a7-6d38-4794-a7d1-6b2c0e57ca8f",
   "metadata": {},
   "source": [
    "### Step 2: Start Spark Session"
   ]
  },
  {
   "cell_type": "code",
   "execution_count": null,
   "id": "6991433e-339e-4dde-a08d-d31ce0c45a54",
   "metadata": {},
   "outputs": [],
   "source": [
    "from pyspark.sql import SparkSession\n",
    "\n",
    "try:\n",
    "    spark.stop()\n",
    "except NameError:\n",
    "    print(\"SparkContext not defined\")\n",
    "\n",
    "# local mode\n",
    "spark = SparkSession.builder \\\n",
    "            .appName(\"Spark SQL basic example\") \\\n",
    "            .master(\"local[*]\") \\\n",
    "\t    \t.config(\"spark.some.config.option\", \"some-value\") \\\n",
    "\t    \t.getOrCreate()\n",
    "\n",
    "# cluster mode\n",
    "#spark = SparkSession.builder \\\n",
    "#            .appName(\"Spark SQL basic example\") \\\n",
    "#            .master(\"spark://spark:7077\") \\\n",
    "#\t    \t.config(\"spark.some.config.option\", \"some-value\") \\\n",
    "#\t    \t.getOrCreate()"
   ]
  },
  {
   "cell_type": "markdown",
   "id": "c14d39b9-8cb1-4605-9da6-d98d169b9790",
   "metadata": {},
   "source": [
    "### Step 3: Read JSON files as dataframes"
   ]
  },
  {
   "cell_type": "code",
   "execution_count": null,
   "id": "b8d2a9a2-4ec7-4ccf-b0f8-b34a0c30d846",
   "metadata": {},
   "outputs": [],
   "source": [
    "stations_df = spark.read.json('data/station-data.json')\n",
    "stations_df.show()"
   ]
  },
  {
   "cell_type": "code",
   "execution_count": null,
   "id": "7f9fc205-2c22-44b1-a0b2-538516fe39f4",
   "metadata": {},
   "outputs": [],
   "source": [
    "trips_df = spark.read.json('data/trip-data.json').repartition(9)\n",
    "trips_df.show()"
   ]
  },
  {
   "cell_type": "markdown",
   "id": "d0007319-3c00-453f-a229-8f341034cbd5",
   "metadata": {},
   "source": [
    "### Step 4: Use operations `select`, `distinct`, and `count` to determine \"how many different zip codes exists in trips data\" `#TODO`"
   ]
  },
  {
   "cell_type": "code",
   "execution_count": null,
   "id": "277ecffb-1f36-4c83-b4d7-89ca426b6efc",
   "metadata": {},
   "outputs": [],
   "source": [
    "from pyspark.sql.functions import col\n",
    "\n",
    "# ..."
   ]
  },
  {
   "cell_type": "markdown",
   "id": "244a24f1-09de-4fac-92bf-73917f9760b1",
   "metadata": {},
   "source": [
    "### Step 5: Dataframe = RDD with schema\n",
    "Observe that a dataframe is an RDD with each item being of type `Row`. Naturally, rows have schema associated with."
   ]
  },
  {
   "cell_type": "code",
   "execution_count": null,
   "id": "d21ddad3-c996-47a1-9d4b-087d1835990c",
   "metadata": {},
   "outputs": [],
   "source": [
    "stations_df.take(3)"
   ]
  },
  {
   "cell_type": "code",
   "execution_count": null,
   "id": "5b1814b7-6ef9-49a3-86aa-6b4e16d7a7fa",
   "metadata": {},
   "outputs": [],
   "source": [
    "stations_df.printSchema()"
   ]
  },
  {
   "cell_type": "markdown",
   "id": "86a56b0b-6352-437e-bbb8-e3734a39f125",
   "metadata": {},
   "source": [
    "### Step 6: Extract from trips data the top 10 latest rides -- the ones that happened more recently"
   ]
  },
  {
   "cell_type": "code",
   "execution_count": null,
   "id": "315f7f72-22ff-472c-b34f-d7ab35a89857",
   "metadata": {},
   "outputs": [],
   "source": [
    "trips_df.printSchema()"
   ]
  },
  {
   "cell_type": "code",
   "execution_count": null,
   "id": "78dc6900-a14d-40c7-993e-e5604b388a7c",
   "metadata": {},
   "outputs": [],
   "source": [
    "# start_date as string\n",
    "trips_df.select(col(\"start_date\")).first()"
   ]
  },
  {
   "cell_type": "code",
   "execution_count": null,
   "id": "348880ea-295c-4c16-bd86-0467ba3f7413",
   "metadata": {},
   "outputs": [],
   "source": [
    "from pyspark.sql.functions import to_date, col, unix_timestamp, to_timestamp\n",
    "\n",
    "# new column with start_date formatted as datetime (now we have the notion of 'order' between dates)\n",
    "trips_df = trips_df.withColumn(\"start_date_fmt\", to_timestamp(col(\"start_date\"), \"yyyy-MM-dd'T'HH:mm:ss.SSSXXX\"))"
   ]
  },
  {
   "cell_type": "code",
   "execution_count": null,
   "id": "70b108b8-bb76-4a31-93c6-a109fefff90a",
   "metadata": {},
   "outputs": [],
   "source": [
    "# TODO: top 10 latest rides ....."
   ]
  },
  {
   "cell_type": "markdown",
   "id": "951e5be8-7235-4578-894d-aa2b004caedd",
   "metadata": {},
   "source": [
    "### Step 7: Get the latitude and longitude of the **starting stations** that produced the top-30 longest rides `#TODO`\n",
    "\n",
    "Generate a list such as:\n",
    "```\n",
    "station1 lat long ride_duration\n",
    "station2 lat long ride_duration\n",
    "station3 lat long ride_duration\n",
    "...\n",
    "```\n",
    "\n",
    "Obs: the same station may appear more than once in this list"
   ]
  },
  {
   "cell_type": "code",
   "execution_count": null,
   "id": "94151757-81e4-42a5-8941-e118f416106d",
   "metadata": {},
   "outputs": [],
   "source": [
    "# TODO"
   ]
  }
 ],
 "metadata": {
  "kernelspec": {
   "display_name": "Python 3 (ipykernel)",
   "language": "python",
   "name": "python3"
  },
  "language_info": {
   "codemirror_mode": {
    "name": "ipython",
    "version": 3
   },
   "file_extension": ".py",
   "mimetype": "text/x-python",
   "name": "python",
   "nbconvert_exporter": "python",
   "pygments_lexer": "ipython3",
   "version": "3.12.9"
  }
 },
 "nbformat": 4,
 "nbformat_minor": 5
}
