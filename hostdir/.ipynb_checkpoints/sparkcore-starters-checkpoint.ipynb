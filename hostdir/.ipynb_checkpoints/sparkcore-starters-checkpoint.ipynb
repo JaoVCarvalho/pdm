{
 "cells": [
  {
   "cell_type": "code",
   "execution_count": 1,
   "id": "1f50ba8f-805e-45ec-abba-a08281baa4e4",
   "metadata": {},
   "outputs": [
    {
     "name": "stderr",
     "output_type": "stream",
     "text": [
      "Setting default log level to \"WARN\".\n",
      "To adjust logging level use sc.setLogLevel(newLevel). For SparkR, use setLogLevel(newLevel).\n",
      "25/03/01 14:49:32 WARN NativeCodeLoader: Unable to load native-hadoop library for your platform... using builtin-java classes where applicable\n",
      "[Stage 0:>                                                          (0 + 2) / 2]"
     ]
    },
    {
     "name": "stdout",
     "output_type": "stream",
     "text": [
      "Sum of RDD1:  15\n",
      "Average of RDD1:  3.0\n",
      "one : 1\n",
      "two : 1\n",
      "three : 1\n"
     ]
    },
    {
     "name": "stderr",
     "output_type": "stream",
     "text": [
      "                                                                                "
     ]
    }
   ],
   "source": [
    "from pyspark.context import SparkContext\n",
    "\n",
    "sc = SparkContext(appName=\"SparkStarters\", master=\"spark://spark:7077\")\n",
    "\n",
    "rdd1 = sc.parallelize([1, 2, 3, 4, 5])\n",
    "rdd2 = sc.parallelize(['one', 'two', 'three'])\n",
    "\n",
    "sum_rdd1 = rdd1.sum()\n",
    "avg_rdd1 = rdd1.mean()\n",
    "\n",
    "print(\"Sum of RDD1: \", sum_rdd1)\n",
    "print(\"Average of RDD1: \", avg_rdd1)\n",
    "\n",
    "word_count = rdd2.countByValue()\n",
    "for word, count in word_count.items():\n",
    "    print(word, \":\", count)"
   ]
  },
  {
   "cell_type": "code",
   "execution_count": 1,
   "id": "957202da-655f-41a4-89dd-7b49b7e6b0aa",
   "metadata": {},
   "outputs": [],
   "source": [
    "import networkx"
   ]
  },
  {
   "cell_type": "code",
   "execution_count": 2,
   "id": "c8e12c04-7c74-4aa8-b979-521db54c983f",
   "metadata": {},
   "outputs": [
    {
     "name": "stdout",
     "output_type": "stream",
     "text": [
      "Collecting networkx\n",
      "  Downloading networkx-3.4.2-py3-none-any.whl.metadata (6.3 kB)\n",
      "Downloading networkx-3.4.2-py3-none-any.whl (1.7 MB)\n",
      "\u001b[2K   \u001b[90m━━━━━━━━━━━━━━━━━━━━━━━━━━━━━━━━━━━━━━━━\u001b[0m \u001b[32m1.7/1.7 MB\u001b[0m \u001b[31m17.7 MB/s\u001b[0m eta \u001b[36m0:00:00\u001b[0m\n",
      "Installing collected packages: networkx\n",
      "Successfully installed networkx-3.4.2\n",
      "\n",
      "\u001b[1m[\u001b[0m\u001b[34;49mnotice\u001b[0m\u001b[1;39;49m]\u001b[0m\u001b[39;49m A new release of pip is available: \u001b[0m\u001b[31;49m24.3.1\u001b[0m\u001b[39;49m -> \u001b[0m\u001b[32;49m25.0.1\u001b[0m\n",
      "\u001b[1m[\u001b[0m\u001b[34;49mnotice\u001b[0m\u001b[1;39;49m]\u001b[0m\u001b[39;49m To update, run: \u001b[0m\u001b[32;49mpip install --upgrade pip\u001b[0m\n"
     ]
    }
   ],
   "source": [
    "!pip install networkx"
   ]
  }
 ],
 "metadata": {
  "kernelspec": {
   "display_name": "Python 3 (ipykernel)",
   "language": "python",
   "name": "python3"
  },
  "language_info": {
   "codemirror_mode": {
    "name": "ipython",
    "version": 3
   },
   "file_extension": ".py",
   "mimetype": "text/x-python",
   "name": "python",
   "nbconvert_exporter": "python",
   "pygments_lexer": "ipython3",
   "version": "3.12.8"
  }
 },
 "nbformat": 4,
 "nbformat_minor": 5
}
