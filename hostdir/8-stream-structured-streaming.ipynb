{
 "cells": [
  {
   "cell_type": "markdown",
   "id": "2665f558-53d8-4586-bfa4-43830aa5384f",
   "metadata": {},
   "source": [
    "# EX8-STREAM: Spark Structured Streaming\n",
    "\n",
    "Your assignment: complete the `TODO`'s and include also the **output of each cell**.\n",
    "\n",
    "#### You may need to read the [Structured Streaming API Documentation](https://spark.apache.org/docs/latest/api/python/reference/pyspark.ss/index.html) to complete this lab."
   ]
  },
  {
   "cell_type": "markdown",
   "id": "d78793a7-6d38-4794-a7d1-6b2c0e57ca8f",
   "metadata": {},
   "source": [
    "### Step 1: Start Spark Session"
   ]
  },
  {
   "cell_type": "code",
   "execution_count": 1,
   "id": "6991433e-339e-4dde-a08d-d31ce0c45a54",
   "metadata": {},
   "outputs": [
    {
     "name": "stdout",
     "output_type": "stream",
     "text": [
      "SparkContext not defined\n"
     ]
    },
    {
     "name": "stderr",
     "output_type": "stream",
     "text": [
      "Setting default log level to \"WARN\".\n",
      "To adjust logging level use sc.setLogLevel(newLevel). For SparkR, use setLogLevel(newLevel).\n",
      "25/03/28 20:35:22 WARN NativeCodeLoader: Unable to load native-hadoop library for your platform... using builtin-java classes where applicable\n"
     ]
    }
   ],
   "source": [
    "from pyspark.sql import SparkSession\n",
    "\n",
    "try:\n",
    "    spark.stop()\n",
    "except NameError:\n",
    "    print(\"SparkContext not defined\")\n",
    "\n",
    "# local mode\n",
    "spark = SparkSession.builder \\\n",
    "            .appName(\"Spark SQL basic example\") \\\n",
    "            .master(\"local[*]\") \\\n",
    "\t    \t.config(\"spark.some.config.option\", \"some-value\") \\\n",
    "\t    \t.getOrCreate()\n",
    "\n",
    "# cluster mode\n",
    "#spark = SparkSession.builder \\\n",
    "#            .appName(\"Spark SQL basic example\") \\\n",
    "#            .master(\"spark://spark:7077\") \\\n",
    "#\t    \t.config(\"spark.some.config.option\", \"some-value\") \\\n",
    "#\t    \t.getOrCreate()"
   ]
  },
  {
   "cell_type": "markdown",
   "id": "bf5215e2-5002-44e1-ad23-1b65803b09ee",
   "metadata": {},
   "source": [
    "### Step 2: Static Dataframe of words"
   ]
  },
  {
   "cell_type": "code",
   "execution_count": 2,
   "id": "1e328c85-b3a5-4746-9f9e-7caf491c5075",
   "metadata": {
    "scrolled": true
   },
   "outputs": [
    {
     "name": "stdout",
     "output_type": "stream",
     "text": [
      "+----------+\n",
      "|      word|\n",
      "+----------+\n",
      "|     apple|\n",
      "|     sunny|\n",
      "| bookshelf|\n",
      "|  computer|\n",
      "|     pizza|\n",
      "|    friend|\n",
      "|     happy|\n",
      "|    flower|\n",
      "|basketball|\n",
      "|       dog|\n",
      "|     beach|\n",
      "|  vacation|\n",
      "|     piano|\n",
      "|  elephant|\n",
      "|    coffee|\n",
      "|  sunshine|\n",
      "| butterfly|\n",
      "|  mountain|\n",
      "|    guitar|\n",
      "|       cat|\n",
      "+----------+\n",
      "only showing top 20 rows\n",
      "\n"
     ]
    }
   ],
   "source": [
    "words_df = spark.read.csv(\"data/100words.txt.gz\")\n",
    "words_df = words_df.withColumnRenamed(\"_c0\", \"word\")\n",
    "words_df.show()"
   ]
  },
  {
   "cell_type": "markdown",
   "id": "ca1f7aeb-2b85-40a0-9932-2e086ff4852b",
   "metadata": {},
   "source": [
    "### Step 3: Get meaning for each word (use [Free Dictionary API](https://dictionaryapi.dev/))"
   ]
  },
  {
   "cell_type": "code",
   "execution_count": 3,
   "id": "9db372c8-9818-46b9-8737-a4b424886522",
   "metadata": {
    "scrolled": true
   },
   "outputs": [
    {
     "name": "stdout",
     "output_type": "stream",
     "text": [
      "words_with_meaning_df not defined\n",
      "apple\n",
      "sunny\n",
      "bookshelf\n",
      "computer\n",
      "pizza\n",
      "friend\n",
      "happy\n",
      "flower\n",
      "basketball\n",
      "dog\n",
      "beach\n",
      "vacation\n",
      "piano\n",
      "elephant\n",
      "coffee\n",
      "sunshine\n",
      "butterfly\n",
      "mountain\n",
      "guitar\n",
      "cat\n",
      "phone\n",
      "birthday\n",
      "gift\n",
      "school\n",
      "homework\n",
      "music\n",
      "swimming\n",
      "library\n",
      "science\n",
      "fiction\n",
      "poem\n",
      "tree\n",
      "bird\n",
      "water\n",
      "city\n",
      "park\n",
      "running\n",
      "jumping\n",
      "cycling\n",
      "sky\n",
      "cloud\n",
      "starfish\n",
      "ocean\n",
      "wave\n",
      "shell\n",
      "pearl\n",
      "snail\n",
      "speed\n",
      "racing\n",
      "winner\n",
      "treasure\n",
      "pirate\n",
      "shipwreck\n",
      "mermaid\n",
      "fish\n",
      "coral\n",
      "reef\n",
      "surfboard\n",
      "kayak\n",
      "paddle\n",
      "canoe\n",
      "tent\n",
      "camping\n",
      "marshmallow\n",
      "s'mores\n",
      "campfire\n",
      "sparkler\n",
      "firework\n",
      "dragonfly\n",
      "monarch\n",
      "milkshake\n",
      "ice cream\n",
      "cookie\n",
      "brownie\n",
      "sundae\n",
      "peanut butter\n",
      "jelly\n",
      "grape\n",
      "strawberry\n",
      "blueberry\n",
      "raspberry\n",
      "kiwi\n",
      "pineapple\n",
      "orange\n",
      "banana\n",
      "avocado\n",
      "lemon\n",
      "lime\n",
      "mint\n",
      "basil\n",
      "rosemary\n",
      "thyme\n",
      "oregano\n",
      "cinnamon\n",
      "nutmeg\n",
      "gingerbread\n",
      "hot chocolate\n",
      "marshmallow\n",
      "stuffing\n",
      "turkey\n"
     ]
    },
    {
     "name": "stderr",
     "output_type": "stream",
     "text": [
      "[Stage 3:>                                                        (0 + 16) / 16]"
     ]
    },
    {
     "name": "stdout",
     "output_type": "stream",
     "text": [
      "+----------+--------------------+\n",
      "|      word|             meaning|\n",
      "+----------+--------------------+\n",
      "|     apple|A common, round f...|\n",
      "|     sunny|          A sunfish.|\n",
      "| bookshelf|A shelf or shelve...|\n",
      "|  computer|A person employed...|\n",
      "|     pizza|A baked Italian d...|\n",
      "|    friend|A person other th...|\n",
      "|     happy|A happy event, th...|\n",
      "|    flower|A colorful, consp...|\n",
      "|basketball|A sport in which ...|\n",
      "|       dog|A mammal, Canis f...|\n",
      "|     beach|The shore of a bo...|\n",
      "|  vacation|Freedom from some...|\n",
      "|     piano|A percussive keyb...|\n",
      "|  elephant|A mammal of the o...|\n",
      "|    coffee|A beverage made b...|\n",
      "|  sunshine|The direct rays, ...|\n",
      "| butterfly|A flying insect o...|\n",
      "|  mountain|An elevation of l...|\n",
      "|    guitar|A stringed musica...|\n",
      "|       cat|An animal of the ...|\n",
      "+----------+--------------------+\n",
      "only showing top 20 rows\n",
      "\n"
     ]
    },
    {
     "name": "stderr",
     "output_type": "stream",
     "text": [
      "                                                                                "
     ]
    }
   ],
   "source": [
    "from pyspark.sql.functions import *\n",
    "import requests_ratelimiter\n",
    "\n",
    "def get_word_meaning(word, session):\n",
    "    url = f\"https://api.dictionaryapi.dev/api/v2/entries/en/{word}\"\n",
    "    response = session.get(url)\n",
    "    response.raise_for_status()  # Ensure the request was successful\n",
    "    json_data = response.json()\n",
    "\n",
    "    try:\n",
    "        meaning = json_data[0]['meanings'][0]['definitions'][0]['definition']\n",
    "    except:\n",
    "        meaning = \"__NOT_FOUND__\"\n",
    "\n",
    "    return meaning\n",
    "\n",
    "\n",
    "try:\n",
    "    words_with_meaning_df.cache()\n",
    "    words_with_meaning_df.show()\n",
    "except NameError:\n",
    "    print(\"words_with_meaning_df not defined\")\n",
    "    meanings = []\n",
    "    session = requests_ratelimiter.LimiterSession(per_second=1)\n",
    "    for word in [r.word for r in words_df.collect()]:\n",
    "        meanings.append((word, get_word_meaning(word, session)))\n",
    "        print(word)\n",
    "    words_with_meaning_df = spark.createDataFrame(meanings, [\"word\", \"meaning\"])\n",
    "    words_with_meaning_df.cache()\n",
    "    words_with_meaning_df.show()"
   ]
  },
  {
   "cell_type": "markdown",
   "id": "75e3bea3-78c9-4ca4-a749-d6fd3632fd1a",
   "metadata": {},
   "source": [
    "### Step 4: **[PLAN A]** Create a stream of sentences using existing socket stream (LAB)"
   ]
  },
  {
   "cell_type": "code",
   "execution_count": 8,
   "id": "805b2706-6fd2-4bb3-bef1-059c94a66a80",
   "metadata": {},
   "outputs": [
    {
     "name": "stderr",
     "output_type": "stream",
     "text": [
      "25/03/21 22:18:39 WARN TextSocketSourceProvider: The socket source should not be used for production applications! It does not support recovery.\n"
     ]
    },
    {
     "data": {
      "text/plain": [
       "DataFrame[value: string]"
      ]
     },
     "execution_count": 8,
     "metadata": {},
     "output_type": "execute_result"
    }
   ],
   "source": [
    "words_stream = spark \\\n",
    "    .readStream.format(\"socket\") \\\n",
    "    .option(\"host\", \"socketstreamserver\") \\\n",
    "    .option(\"port\", 12345) \\\n",
    "    .load()"
   ]
  },
  {
   "cell_type": "markdown",
   "id": "142297a7-1ad8-4ef8-99fb-19f97df651c4",
   "metadata": {},
   "source": [
    "### Step 4: **[PLAN B]** Create a socket stream and create a stream of sentences from that (NOTEBOOK LOCAL)\n",
    "\n",
    "1. Before running the cell below, start socket stream from existing script `hostdir/bin/cmd.sh` using a notebook terminal.\n",
    "2. Make sure it is running properly.\n",
    "3. Create a spark stream using the command below"
   ]
  },
  {
   "cell_type": "code",
   "execution_count": 4,
   "id": "ba24112f-12a6-4249-9968-c6ce5b71e093",
   "metadata": {},
   "outputs": [
    {
     "name": "stderr",
     "output_type": "stream",
     "text": [
      "25/03/28 20:45:37 WARN TextSocketSourceProvider: The socket source should not be used for production applications! It does not support recovery.\n"
     ]
    }
   ],
   "source": [
    "words_stream = spark \\\n",
    "    .readStream.format(\"socket\") \\\n",
    "    .option(\"host\", \"localhost\") \\\n",
    "    .option(\"port\", 12345) \\\n",
    "    .load()"
   ]
  },
  {
   "cell_type": "markdown",
   "id": "7a10542c-9305-4335-95e4-efa3ea017564",
   "metadata": {},
   "source": [
    "### Step 5: Start stream just to visualize some of its values (for 10 seconds)"
   ]
  },
  {
   "cell_type": "code",
   "execution_count": 5,
   "id": "dac43346-7f95-4681-aea6-f1b929bc424e",
   "metadata": {
    "scrolled": true
   },
   "outputs": [
    {
     "name": "stderr",
     "output_type": "stream",
     "text": [
      "25/03/28 20:45:40 WARN ResolveWriteToStream: Temporary checkpoint location created which is deleted normally when the query didn't fail: /tmp/temporary-80f161ff-5ef7-4adc-9e9a-cef49ee8dcc5. If it's required to delete it under any circumstances, please set spark.sql.streaming.forceDeleteTempCheckpointLocation to true. Important to know deleting temp checkpoint folder is best effort.\n",
      "25/03/28 20:45:40 WARN ResolveWriteToStream: spark.sql.adaptive.enabled is not supported in streaming DataFrames/Datasets and will be disabled.\n"
     ]
    },
    {
     "name": "stdout",
     "output_type": "stream",
     "text": [
      "-------------------------------------------\n",
      "Batch: 0\n",
      "-------------------------------------------\n",
      "+-----+\n",
      "|value|\n",
      "+-----+\n",
      "+-----+\n",
      "\n",
      "-------------------------------------------\n",
      "Batch: 1\n",
      "-------------------------------------------\n",
      "+--------------------+\n",
      "|               value|\n",
      "+--------------------+\n",
      "|16 ice cream wave...|\n",
      "| 11 pineapple thyme |\n",
      "+--------------------+\n",
      "\n",
      "-------------------------------------------\n",
      "Batch: 2\n",
      "-------------------------------------------\n",
      "+---------+\n",
      "|    value|\n",
      "+---------+\n",
      "|5 racing |\n",
      "+---------+\n",
      "\n",
      "-------------------------------------------\n",
      "Batch: 3\n",
      "-------------------------------------------\n",
      "+------------------+\n",
      "|             value|\n",
      "+------------------+\n",
      "|17 shell elephant |\n",
      "+------------------+\n",
      "\n",
      "-------------------------------------------\n",
      "Batch: 4\n",
      "-------------------------------------------\n",
      "+--------------------+\n",
      "|               value|\n",
      "+--------------------+\n",
      "|5 s'mores oregano...|\n",
      "+--------------------+\n",
      "\n",
      "-------------------------------------------\n",
      "Batch: 5\n",
      "-------------------------------------------\n",
      "+--------------------+\n",
      "|               value|\n",
      "+--------------------+\n",
      "|17 surfboard poem...|\n",
      "|14 turkey pizza b...|\n",
      "+--------------------+\n",
      "\n",
      "-------------------------------------------\n",
      "Batch: 6\n",
      "-------------------------------------------\n",
      "+--------------------+\n",
      "|               value|\n",
      "+--------------------+\n",
      "|0 friend ice crea...|\n",
      "+--------------------+\n",
      "\n"
     ]
    },
    {
     "data": {
      "text/plain": [
       "False"
      ]
     },
     "execution_count": 5,
     "metadata": {},
     "output_type": "execute_result"
    },
    {
     "name": "stdout",
     "output_type": "stream",
     "text": [
      "-------------------------------------------\n",
      "Batch: 7\n",
      "-------------------------------------------\n",
      "+----------------+\n",
      "|           value|\n",
      "+----------------+\n",
      "|19 piano turkey |\n",
      "+----------------+\n",
      "\n",
      "-------------------------------------------\n",
      "Batch: 8\n",
      "-------------------------------------------\n",
      "+--------------------+\n",
      "|               value|\n",
      "+--------------------+\n",
      "|14 ice cream mars...|\n",
      "|14 computer park ...|\n",
      "|7 cycling jumping...|\n",
      "+--------------------+\n",
      "\n",
      "-------------------------------------------\n",
      "Batch: 9\n",
      "-------------------------------------------\n",
      "+--------------------+\n",
      "|               value|\n",
      "+--------------------+\n",
      "|20 monarch cookie...|\n",
      "+--------------------+\n",
      "\n",
      "-------------------------------------------\n",
      "Batch: 10\n",
      "-------------------------------------------\n",
      "+--------------------+\n",
      "|               value|\n",
      "+--------------------+\n",
      "|13 library phone ...|\n",
      "+--------------------+\n",
      "\n",
      "-------------------------------------------\n",
      "Batch: 11\n",
      "-------------------------------------------\n",
      "+--------------------+\n",
      "|               value|\n",
      "+--------------------+\n",
      "|8 basketball rose...|\n",
      "+--------------------+\n",
      "\n",
      "-------------------------------------------\n",
      "Batch: 12\n",
      "-------------------------------------------\n",
      "+----------+\n",
      "|     value|\n",
      "+----------+\n",
      "|13 coffee |\n",
      "+----------+\n",
      "\n",
      "-------------------------------------------\n",
      "Batch: 13\n",
      "-------------------------------------------\n",
      "+--------------------+\n",
      "|               value|\n",
      "+--------------------+\n",
      "|1 sundae grape re...|\n",
      "+--------------------+\n",
      "\n",
      "-------------------------------------------\n",
      "Batch: 14\n",
      "-------------------------------------------\n",
      "+--------------------+\n",
      "|               value|\n",
      "+--------------------+\n",
      "|2 beach jelly swi...|\n",
      "+--------------------+\n",
      "\n"
     ]
    }
   ],
   "source": [
    "words_stream_writer = words_stream.writeStream.format(\"console\").outputMode(\"append\")\n",
    "words_stream_writer = words_stream_writer.trigger(processingTime=\"1 second\")\n",
    "words_stream_query = words_stream_writer.start()\n",
    "words_stream_query.awaitTermination(10)"
   ]
  },
  {
   "cell_type": "markdown",
   "id": "6bcf4016-2e1a-446c-99c6-855d57848385",
   "metadata": {},
   "source": [
    "### Step 6: Transform the stream as requested `#TODO`\n",
    "\n",
    "1. Each line of the stream starts with a number, let us call this number `user_id`. The rest of the line comprises a set of words generated by this user.\n",
    "2. For each user request you must take the corresponding words, get the meaning of each word (static dataframe) and return the responses as a new stream of `user_id, [<meaning of word 1>, <meaning of word 2>, ... ]`\n",
    "3. Let the stream running on console for 10 seconds."
   ]
  },
  {
   "cell_type": "code",
   "execution_count": null,
   "id": "86e9efc8-b1f6-4ca5-b524-98c1bfc3a111",
   "metadata": {},
   "outputs": [],
   "source": [
    "# code here: TODO"
   ]
  },
  {
   "cell_type": "markdown",
   "id": "e3550aa0-c822-4bf2-98e4-9f5a5708e6ae",
   "metadata": {},
   "source": [
    "### Step 7: Transform the stream as requested `#TODO`\n",
    "\n",
    "1. Again, from the stream of lines `words_stream`\n",
    "2. Map each line to rows of `word,user_id` (hint: use `explode` and `split`)\n",
    "3. From this new stream, group by word and aggregate the set of user IDs that asked for that specific word.\n",
    "4. Generate a stream of `<list of user IDs> <word> <meaning of word>`\n",
    "5. Let the resulting stream running for 20 seconds."
   ]
  },
  {
   "cell_type": "code",
   "execution_count": null,
   "id": "fe3dd803-d53b-46fe-beec-5e26b4913a1f",
   "metadata": {},
   "outputs": [],
   "source": [
    "# code here: TODO"
   ]
  }
 ],
 "metadata": {
  "kernelspec": {
   "display_name": "Python 3 (ipykernel)",
   "language": "python",
   "name": "python3"
  },
  "language_info": {
   "codemirror_mode": {
    "name": "ipython",
    "version": 3
   },
   "file_extension": ".py",
   "mimetype": "text/x-python",
   "name": "python",
   "nbconvert_exporter": "python",
   "pygments_lexer": "ipython3",
   "version": "3.12.9"
  }
 },
 "nbformat": 4,
 "nbformat_minor": 5
}
