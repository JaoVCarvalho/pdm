{
 "cells": [
  {
   "cell_type": "markdown",
   "id": "2665f558-53d8-4586-bfa4-43830aa5384f",
   "metadata": {},
   "source": [
    "# EX9-STREAM: Spark Structured Streaming + Kafka\n",
    "\n",
    "Your assignment: complete the `TODO`'s and include also the **output of each cell**.\n",
    "\n",
    "#### You may need to read the [Structured Streaming API Documentation](https://spark.apache.org/docs/latest/api/python/reference/pyspark.ss/index.html) to complete this lab.\n",
    "\n",
    "### Before starting this exercise: (1) start `kafka` stack; (2) start `kafkafakestream` stack."
   ]
  },
  {
   "cell_type": "markdown",
   "id": "d78793a7-6d38-4794-a7d1-6b2c0e57ca8f",
   "metadata": {},
   "source": [
    "### Step 1: **[PLAN A]** Start Spark Session"
   ]
  },
  {
   "cell_type": "code",
   "execution_count": null,
   "id": "6991433e-339e-4dde-a08d-d31ce0c45a54",
   "metadata": {
    "scrolled": true
   },
   "outputs": [],
   "source": [
    "from pyspark.sql import SparkSession\n",
    "\n",
    "try:\n",
    "    spark.stop()\n",
    "except NameError:\n",
    "    print(\"SparkContext not defined\")\n",
    "\n",
    "# cluster mode (and minio for distributed file system)\n",
    "spark = SparkSession.builder \\\n",
    "            .appName(\"Spark SQL basic example\") \\\n",
    "            .master(\"spark://spark:7077\") \\\n",
    "\t    \t.config(\"spark.jars.packages\", \"org.apache.hadoop:hadoop-aws:3.3.4,org.apache.spark:spark-sql-kafka-0-10_2.12:3.5.4\") \\\n",
    "            .config(\"spark.hadoop.fs.s3a.endpoint\", \"http://minio:9000\") \\\n",
    "            .config(\"spark.hadoop.fs.s3a.access.key\", \"pdm_minio\") \\\n",
    "            .config(\"spark.hadoop.fs.s3a.secret.key\", \"pdm_minio\") \\\n",
    "            .config(\"spark.hadoop.fs.s3a.path.style.access\", \"true\") \\\n",
    "            .config(\"spark.hadoop.fs.s3a.impl\", \"org.apache.hadoop.fs.s3a.S3AFileSystem\") \\\n",
    "            .config(\"spark.hadoop.fs.s3a.connection.ssl.enabled\", \"false\") \\\n",
    "\t    \t.getOrCreate()"
   ]
  },
  {
   "cell_type": "markdown",
   "id": "bf5215e2-5002-44e1-ad23-1b65803b09ee",
   "metadata": {},
   "source": [
    "### Step 2: **[PLAN A]** Create stream of pizza orders from Kafka"
   ]
  },
  {
   "cell_type": "code",
   "execution_count": null,
   "id": "8ec6006a-cd33-49cc-918c-49ed0d7dcbf1",
   "metadata": {
    "scrolled": true
   },
   "outputs": [],
   "source": [
    "# Read from Kafka\n",
    "df_stream = spark.readStream \\\n",
    "    .format(\"kafka\") \\\n",
    "    .option(\"kafka.bootstrap.servers\", \"kafka:9092\") \\\n",
    "    .option(\"subscribe\", \"pizza\") \\\n",
    "    .option(\"startingOffsets\", \"earliest\") \\\n",
    "    .load()\n",
    "\n",
    "from pyspark.sql.types import StructType, StructField, StringType, LongType, IntegerType, ArrayType\n",
    "from pyspark.sql.functions import col, from_json\n",
    "from pyspark.sql.types import StructType, StringType, TimestampType\n",
    "\n",
    "schema = StructType([\n",
    "    StructField(\"id\", IntegerType()),\n",
    "    StructField(\"shop\", StringType()),\n",
    "    StructField(\"name\", StringType()),\n",
    "    StructField(\"phoneNumber\", StringType()),\n",
    "    StructField(\"address\", StringType()),\n",
    "    StructField(\"pizzas\", ArrayType(\n",
    "        StructType([\n",
    "            StructField(\"pizzaName\", StringType()),\n",
    "            StructField(\"additionalToppings\", ArrayType(StringType()))\n",
    "        ])\n",
    "    )),\n",
    "    StructField(\"timestamp\", LongType())  # This is in epoch millis\n",
    "])\n",
    "\n",
    "\n",
    "df_stream = df_stream.selectExpr(\"CAST(value AS STRING) as json_str\")\n",
    "df_stream = df_stream.select(from_json(col(\"json_str\"), schema).alias(\"data\")).select(\"data.*\")\n",
    "\n",
    "df_stream_writer = df_stream.writeStream.format(\"console\").outputMode(\"append\")\n",
    "df_stream_writer = df_stream_writer.trigger(processingTime=\"1 second\")\n",
    "df_stream_query = df_stream_writer.start()\n",
    "df_stream_query.awaitTermination(10)"
   ]
  },
  {
   "cell_type": "markdown",
   "id": "b44d5679-e700-418a-bbc6-254b401f8c4b",
   "metadata": {},
   "source": [
    "### Step 3: Explore the example above, change parameters, see the results\n",
    "\n",
    "This is a open exercise (show your work and explain the output). Fake kafka stream has other options concerning subject, number of messages, waiting time, etc."
   ]
  }
 ],
 "metadata": {
  "kernelspec": {
   "display_name": "Python 3 (ipykernel)",
   "language": "python",
   "name": "python3"
  },
  "language_info": {
   "codemirror_mode": {
    "name": "ipython",
    "version": 3
   },
   "file_extension": ".py",
   "mimetype": "text/x-python",
   "name": "python",
   "nbconvert_exporter": "python",
   "pygments_lexer": "ipython3",
   "version": "3.12.9"
  }
 },
 "nbformat": 4,
 "nbformat_minor": 5
}
