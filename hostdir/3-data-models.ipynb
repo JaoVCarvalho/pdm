{
 "cells": [
  {
   "cell_type": "markdown",
   "id": "f793d088-0652-4f1e-9be7-f0720947800a",
   "metadata": {},
   "source": [
    "# EX3-DATA: Data models, a few examples\n",
    "\n",
    "Your assignment: complete the `TODO`'s and include also the **output of each cell**."
   ]
  },
  {
   "cell_type": "markdown",
   "id": "a4e2f81d-fc78-4b17-80f7-959649b1490a",
   "metadata": {},
   "source": [
    "### Step 1: Download some real data (Nobel prize data)"
   ]
  },
  {
   "cell_type": "code",
   "execution_count": null,
   "id": "c838bbdf-3416-4d14-96e7-c8b4ad8d7f3a",
   "metadata": {},
   "outputs": [],
   "source": [
    "!wget -np https://api.nobelprize.org/v1/laureate.json -P data/\n",
    "!wget -np https://api.nobelprize.org/v1/country.json -P data/"
   ]
  },
  {
   "cell_type": "markdown",
   "id": "91d541d4-b7ee-4d92-95f2-2f4c83ca357b",
   "metadata": {},
   "source": [
    "### Step 2: Inspect JSON files (take a moment to access the field of this json)"
   ]
  },
  {
   "cell_type": "code",
   "execution_count": null,
   "id": "aeb96618-68b1-4bf3-8514-644a9f3ba6ee",
   "metadata": {
    "scrolled": true
   },
   "outputs": [],
   "source": [
    "import json\n",
    "\n",
    "with open('data/laureate.json', 'r') as f:\n",
    "    laureate_data = json.load(f)\n",
    "\n",
    "with open('data/country.json', 'r') as f:\n",
    "    country_data = json.load(f)"
   ]
  },
  {
   "cell_type": "code",
   "execution_count": null,
   "id": "f1a06523-51e3-4576-9462-c281eba0a17f",
   "metadata": {
    "scrolled": true
   },
   "outputs": [],
   "source": [
    "# laureate data\n",
    "laureate_data"
   ]
  },
  {
   "cell_type": "code",
   "execution_count": null,
   "id": "c3ccc5ed-a734-4622-99d5-3a6c5e491344",
   "metadata": {
    "scrolled": true
   },
   "outputs": [],
   "source": [
    "# country data\n",
    "country_data"
   ]
  },
  {
   "cell_type": "markdown",
   "id": "67e6b34e-0554-4de4-a155-ad8d6bd42f78",
   "metadata": {
    "scrolled": true
   },
   "source": [
    "### Step 3: Model country data as relational data (using [sqlite](https://docs.python.org/3/library/sqlite3.html))\n",
    "- [Basic tutorial for SQLite syntax](https://www.sqlitetutorial.net/)"
   ]
  },
  {
   "cell_type": "code",
   "execution_count": null,
   "id": "e9a471ed-d97b-4b3d-a029-75230f6819ce",
   "metadata": {},
   "outputs": [],
   "source": [
    "!rm -f data/nobel.db\n",
    "\n",
    "import sqlite3\n",
    "\n",
    "# connect to SQLite\n",
    "conn = sqlite3.connect(\"data/nobel.db\")\n",
    "cur = conn.cursor()\n",
    "\n",
    "# create table (in this case an automatic ID is created for new rows)\n",
    "cur.execute(\"\"\"\n",
    "CREATE TABLE IF NOT EXISTS countries (\n",
    "    id INTEGER PRIMARY KEY AUTOINCREMENT,\n",
    "    name TEXT NOT NULL,\n",
    "    code TEXT NOT NULL UNIQUE\n",
    ")\n",
    "\"\"\")\n",
    "\n",
    "# Insert data\n",
    "for country in country_data['countries']:\n",
    "    name = country.get('name', '-')\n",
    "    code = country.get('code', '-')\n",
    "    cur.execute(\"INSERT OR IGNORE INTO countries (name, code) VALUES (?, ?)\", (name, code))\n",
    "\n",
    "# Commit and close\n",
    "conn.commit()\n",
    "conn.close()"
   ]
  },
  {
   "cell_type": "markdown",
   "id": "d39997de-d539-418c-a2e7-4880f558b705",
   "metadata": {
    "scrolled": true
   },
   "source": [
    "### Step 4: Model laureate data as relational data (using [sqlite](https://docs.python.org/3/library/sqlite3.html)) `#TODO`\n",
    "- model and create a laureate table, with columns: `id, firstname, surname, born, died, bornCountry, bornCountryCode, bornCity, diedCountry, diedCountryCode, diedCity, gender`\n",
    "- model and create a prizes table, with columns: `year, category, share, motivation` (no need for affiliation). There is no prize ID, you may create your own as done with table `countries`.\n",
    "- **IMPORTANT DETAIL:** if share is greater than 1, it means that the SAME prize is associated with more than one laureate. This should be properly handled.\n",
    "- make sure there is a a way to reference prizes associated with a given laureate (and vice-versa)"
   ]
  },
  {
   "cell_type": "code",
   "execution_count": null,
   "id": "0330e71d-e7b3-4cd6-9c5f-57571aa730bd",
   "metadata": {},
   "outputs": [],
   "source": [
    "import sqlite3\n",
    "\n",
    "# connect to SQLite\n",
    "conn = sqlite3.connect(\"data/nobel.db\") # IMPORTANT: the same file since this is a single database\n",
    "cur = conn.cursor()\n",
    "\n",
    "# TODO: code here ..."
   ]
  },
  {
   "cell_type": "markdown",
   "id": "62006e6d-932c-48f8-89f0-3d853f114939",
   "metadata": {},
   "source": [
    "### Step 5: Model laureate as a property graph (using [networkx](https://networkx.org/documentation/stable/tutorial.html)) `#TODO`\n",
    "\n",
    "In this case, consider the following:\n",
    "\n",
    "- Each laureant is a node\n",
    "- Two laureants are connected (undirectly) iff they were (is) both alive at some time period\n",
    "- Properties/attributes are the laureate features (id, firstname, surname, etc.). [nx.graph attributes](https://networkx.org/documentation/stable/auto_examples/graphviz_drawing/plot_attributes.html)"
   ]
  },
  {
   "cell_type": "code",
   "execution_count": null,
   "id": "748e9d6b-b699-4efd-a3a2-df67b3534f9e",
   "metadata": {},
   "outputs": [],
   "source": [
    "# below, an example of how to construct a graph using nx\n",
    "\n",
    "import networkx as nx\n",
    "\n",
    "g = nx.Graph()\n",
    "print(g, g.nodes.data(), g.edges.data())\n",
    "\n",
    "g.add_node(0)\n",
    "g.add_node(1)\n",
    "g.add_edge(0,1)\n",
    "g.add_edge(0,2)\n",
    "\n",
    "print(g, g.nodes.data(), g.edges.data())\n",
    "\n",
    "g.nodes[0]['name'] = 'John' \n",
    "g.nodes[1]['name'] = 'Paul'\n",
    "\n",
    "print(g, g.nodes.data(), g.edges.data())"
   ]
  }
 ],
 "metadata": {
  "kernelspec": {
   "display_name": "Python 3 (ipykernel)",
   "language": "python",
   "name": "python3"
  },
  "language_info": {
   "codemirror_mode": {
    "name": "ipython",
    "version": 3
   },
   "file_extension": ".py",
   "mimetype": "text/x-python",
   "name": "python",
   "nbconvert_exporter": "python",
   "pygments_lexer": "ipython3",
   "version": "3.12.9"
  }
 },
 "nbformat": 4,
 "nbformat_minor": 5
}
